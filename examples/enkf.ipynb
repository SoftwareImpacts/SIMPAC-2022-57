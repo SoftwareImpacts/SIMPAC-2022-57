{
 "cells": [
  {
   "cell_type": "markdown",
   "metadata": {},
   "source": [
    "## Examples of running multiway (inverse) covariance models for ensemble Kalman filter"
   ]
  },
  {
   "cell_type": "code",
   "execution_count": 1,
   "metadata": {},
   "outputs": [
    {
     "name": "stderr",
     "output_type": "stream",
     "text": [
      "┌ Info: Precompiling Plots [91a5bcdd-55d7-5caf-9e0b-520d859cae80]\n",
      "└ @ Base loading.jl:1278\n",
      "┌ Info: Precompiling MIRT [7035ae7a-3787-11e9-139a-5545ed3dc201]\n",
      "└ @ Base loading.jl:1278\n",
      "WARNING: could not import HDF5.Group into _hdf5_implementation\n",
      "WARNING: could not import HDF5.Dataset into _hdf5_implementation\n",
      "┌ Warning: Error requiring `HDF5` from `Plots`\n",
      "│   exception = (LoadError(\"/home/wayneyw/.julia/packages/Plots/Awg62/src/backends/hdf5.jl\", 162, UndefVarError(:Group)), Union{Ptr{Nothing}, Base.InterpreterIP}[Ptr{Nothing} @0x00007f0a53bf105f, Ptr{Nothing} @0x00007f0a53c8198c, Ptr{Nothing} @0x00007f0a53c81ed5, Ptr{Nothing} @0x00007f0a53c81b3f, Ptr{Nothing} @0x00007f0a53c82543, Ptr{Nothing} @0x00007f0a53c837a7, Base.InterpreterIP in top-level CodeInfo for Plots._hdf5_implementation at statement 4, Ptr{Nothing} @0x00007f0a53ca0a19, Ptr{Nothing} @0x00007f0a53ca1192, Ptr{Nothing} @0x00007f0a53ca057a, Ptr{Nothing} @0x00007f0a53ca0519, Ptr{Nothing} @0x00007f0a53c73205, Ptr{Nothing} @0x00007f0a53ca1fc1, Ptr{Nothing} @0x00007f0a456d0cae, Ptr{Nothing} @0x00007f09c81d167e, Ptr{Nothing} @0x00007f0a53c68727, Ptr{Nothing} @0x00007f0a53c81ef5, Ptr{Nothing} @0x00007f0a53c81b3f, Ptr{Nothing} @0x00007f0a53c82543, Ptr{Nothing} @0x00007f0a53c837a7, Base.InterpreterIP in top-level CodeInfo for Plots at statement 10, Ptr{Nothing} @0x00007f0a53ca0a19, Ptr{Nothing} @0x00007f0a53ca1c90, Ptr{Nothing} @0x00007f09c81bd5e9, Ptr{Nothing} @0x00007f09c81bd61d, Ptr{Nothing} @0x00007f0a53c68727, Ptr{Nothing} @0x00007f09c81bd2e2, Ptr{Nothing} @0x00007f09c81bce17, Ptr{Nothing} @0x00007f09c81bce3d, Ptr{Nothing} @0x00007f0a53c68727, Ptr{Nothing} @0x00007f09c813a972, Ptr{Nothing} @0x00007f09c81bcd74, Ptr{Nothing} @0x00007f09c81bcdad, Ptr{Nothing} @0x00007f0a53c68727, Ptr{Nothing} @0x00007f0a53c789d3, Ptr{Nothing} @0x00007f0a53c792b1, Ptr{Nothing} @0x00007f09fcbe80fa, Ptr{Nothing} @0x00007f09fcbe8291, Ptr{Nothing} @0x00007f0a53c68bf2, Ptr{Nothing} @0x00007f0a53c789d3, Ptr{Nothing} @0x00007f0a53c792b1, Ptr{Nothing} @0x00007f09c81460e1, Ptr{Nothing} @0x00007f09c8144c09, Ptr{Nothing} @0x00007f09c8149411, Ptr{Nothing} @0x00007f09c8149d6e, Ptr{Nothing} @0x00007f09c814b275, Ptr{Nothing} @0x00007f09c814c9e8, Ptr{Nothing} @0x00007f09c814eecd, Ptr{Nothing} @0x00007f0a53c68727, Ptr{Nothing} @0x00007f0a53c9f37a, Ptr{Nothing} @0x00007f0a53c9f58a, Ptr{Nothing} @0x00007f0a53ca06ca, Ptr{Nothing} @0x00007f0a53c73205, Ptr{Nothing} @0x00007f0a45346183, Ptr{Nothing} @0x00007f09fcb88a19, Ptr{Nothing} @0x00007f0a53c68727, Ptr{Nothing} @0x00007f09fcb85ac1, Ptr{Nothing} @0x00007f0a53c68727, Ptr{Nothing} @0x00007f0a53c789d3, Ptr{Nothing} @0x00007f0a53c792b1, Ptr{Nothing} @0x00007f09fcb56dbf, Ptr{Nothing} @0x00007f09fcb56ffe, Ptr{Nothing} @0x00007f09fcb5701c, Ptr{Nothing} @0x00007f0a53c68727, Ptr{Nothing} @0x00007f0a53c8726e, Ptr{Nothing} @0x0000000000000000])\n",
      "└ @ Requires /home/wayneyw/.julia/packages/Requires/7Ncym/src/require.jl:49\n",
      "┌ Info: Precompiling TensorGraphicalModels [898512dd-fedb-4d0f-8314-27d67dcd2480]\n",
      "└ @ Base loading.jl:1278\n"
     ]
    }
   ],
   "source": [
    "using Plots\n",
    "using MIRT: jim\n",
    "using TensorGraphicalModels"
   ]
  },
  {
   "cell_type": "code",
   "execution_count": 3,
   "metadata": {},
   "outputs": [
    {
     "ename": "LoadError",
     "evalue": "\u001b[91mUndefVarError: px not defined\u001b[39m",
     "output_type": "error",
     "traceback": [
      "\u001b[91mUndefVarError: px not defined\u001b[39m",
      "",
      "Stacktrace:",
      " [1] sylv_eqn_solver!(::Array{Float64,1}, ::Array{Float64,1}, ::TensorGraphicalModels.POISSON; α::Float64, ϵ::Float64, Δx::Float64, Δt::Float64) at /mnt/hdd/Dropbox (University of Michigan)/UMich/Research/Covariance_Estimation/TensorGraphicalModels/src/utils_sim.jl:387",
      " [2] kalmanfilter_dynamic_update(::String, ::Array{Float64,1}, ::Bool, ::Float64; α::Float64, ϵ::Float64, Δx::Float64, Δt::Float64) at /mnt/hdd/Dropbox (University of Michigan)/UMich/Research/Covariance_Estimation/TensorGraphicalModels/src/utils_sim.jl:327",
      " [3] kalmanfilter_dynamic_update at /mnt/hdd/Dropbox (University of Michigan)/UMich/Research/Covariance_Estimation/TensorGraphicalModels/src/utils_sim.jl:314 [inlined]",
      " [4] gen_kalmanfilter_data(::String, ::String, ::Int64, ::Tuple{Int64,Int64}, ::Tuple{Int64,Int64}, ::Float64, ::Float64, ::Bool) at /mnt/hdd/Dropbox (University of Michigan)/UMich/Research/Covariance_Estimation/TensorGraphicalModels/src/utils_sim.jl:290",
      " [5] top-level scope at In[3]:11",
      " [6] include_string(::Function, ::Module, ::String, ::String) at ./loading.jl:1091"
     ]
    }
   ],
   "source": [
    "# generate ground truth data \n",
    "dynamic_type = \"poisson\"\n",
    "obs_type = \"linear_perm_miss\"\n",
    "T = 20\n",
    "N = 50\n",
    "px = py = (32, 32)\n",
    "obs_noise = 0.01\n",
    "process_noise = 0.01\n",
    "add_process_noise = false\n",
    "\n",
    "X, Y, H = TensorGraphicalModels.gen_kalmanfilter_data(dynamic_type, obs_type, T, px, py, obs_noise, process_noise, add_process_noise)"
   ]
  },
  {
   "cell_type": "code",
   "execution_count": null,
   "metadata": {},
   "outputs": [],
   "source": [
    "# gif all time steps\n",
    "anim_x = @animate for i=2:(T+1)\n",
    "    # plot(jim(reshape(X[:,i],px),clim=(-3.0,3.0)),\n",
    "    #     title=string(\"Time step: \",i))\n",
    "    Plots.plot(jim(reshape(X[:,i],px)),\n",
    "        title=string(\"Time step: \",i))\n",
    "end\n",
    "gif(anim_x, fps=5)"
   ]
  },
  {
   "cell_type": "code",
   "execution_count": null,
   "metadata": {},
   "outputs": [],
   "source": [
    "# run enkf with tensor graphical models\n",
    "method_list = [\"glasso\", \"kpca\", \"kglasso\", \"teralasso\", \"sg_palm\"]\n",
    "NRMSEs_list = []\n",
    "time_list = []\n",
    "Omegahat_list = []\n",
    "for method in method_list\n",
    "    # starttime = time()\n",
    "    ## run enkf \n",
    "    Xhat, Xhat_bar, _ = enkf(Y, \n",
    "                            method_str_to_type(method),\n",
    "                            dynamic_type,\n",
    "                            H,\n",
    "                            px,\n",
    "                            py,\n",
    "                            N,\n",
    "                            obs_noise, \n",
    "                            process_noise,\n",
    "                            add_process_noise)\n",
    "    # ## timer\n",
    "    # stoptime = time() - starttime\n",
    "    # push!(time_list, stoptime)\n",
    "    ## compute NRMSEs\n",
    "    NRMSEs = compute_nrmse(X, Xhat)\n",
    "    push!(NRMSEs_list, NRMSEs)\n",
    "    # ## store est. precision matrix\n",
    "    # push!(Omegahat_list, Omegahat)\n",
    "end"
   ]
  },
  {
   "cell_type": "code",
   "execution_count": null,
   "metadata": {},
   "outputs": [],
   "source": [
    "# set up plots of nrmses\n",
    "fig = Plots.plot()\n",
    "xlabel!(\"Time step\")\n",
    "ylabel!(\"RMSE\")\n",
    "for method in method_list\n",
    "    if method == \"sg_palm\"\n",
    "        NRMSEs = NRMSEs_list[end] \n",
    "    elseif method == \"teralasso\"\n",
    "        NRMSEs = NRMSEs_list[4] \n",
    "    elseif method == \"kglasso\"\n",
    "        NRMSEs = NRMSEs_list[3] \n",
    "    elseif method == \"glasso\"\n",
    "        NRMSEs = NRMSEs_list[1] \n",
    "    elseif method == \"kpca\"\n",
    "        NRMSEs = NRMSEs_list[2] \n",
    "    end\n",
    "    ## plot rmse progression for each method\n",
    "    plot_nrmse!(NRMSEs, method)\n",
    "end\n",
    "# plot_nrmse!(NRMSEs_list[1], method_list[1])\n",
    "display(fig)"
   ]
  }
 ],
 "metadata": {
  "kernelspec": {
   "display_name": "Julia 1.5.0",
   "language": "julia",
   "name": "julia-1.5"
  },
  "language_info": {
   "file_extension": ".jl",
   "mimetype": "application/julia",
   "name": "julia",
   "version": "1.5.0"
  },
  "toc": {
   "base_numbering": 1,
   "nav_menu": {},
   "number_sections": true,
   "sideBar": true,
   "skip_h1_title": false,
   "title_cell": "Table of Contents",
   "title_sidebar": "Contents",
   "toc_cell": false,
   "toc_position": {
    "height": "calc(100% - 180px)",
    "left": "10px",
    "top": "150px",
    "width": "207.719px"
   },
   "toc_section_display": true,
   "toc_window_display": true
  }
 },
 "nbformat": 4,
 "nbformat_minor": 4
}
