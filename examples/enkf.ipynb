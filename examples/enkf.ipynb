{
 "cells": [
  {
   "cell_type": "markdown",
   "metadata": {},
   "source": [
    "## Examples of running multiway (inverse) covariance models for ensemble Kalman filter"
   ]
  },
  {
   "cell_type": "code",
   "execution_count": 1,
   "metadata": {},
   "outputs": [
    {
     "name": "stderr",
     "output_type": "stream",
     "text": [
      "WARNING: could not import HDF5.Group into _hdf5_implementation\n",
      "WARNING: could not import HDF5.Dataset into _hdf5_implementation\n",
      "┌ Warning: Error requiring `HDF5` from `Plots`\n",
      "│   exception = (LoadError(\"/home/wayneyw/.julia/packages/Plots/Awg62/src/backends/hdf5.jl\", 162, UndefVarError(:Group)), Union{Ptr{Nothing}, Base.InterpreterIP}[Ptr{Nothing} @0x00007f93ccac705f, Ptr{Nothing} @0x00007f93ccb5798c, Ptr{Nothing} @0x00007f93ccb57ed5, Ptr{Nothing} @0x00007f93ccb57b3f, Ptr{Nothing} @0x00007f93ccb58543, Ptr{Nothing} @0x00007f93ccb597a7, Base.InterpreterIP in top-level CodeInfo for Plots._hdf5_implementation at statement 4, Ptr{Nothing} @0x00007f93ccb76a19, Ptr{Nothing} @0x00007f93ccb77192, Ptr{Nothing} @0x00007f93ccb7657a, Ptr{Nothing} @0x00007f93ccb76519, Ptr{Nothing} @0x00007f93ccb49205, Ptr{Nothing} @0x00007f93ccb77fc1, Ptr{Nothing} @0x00007f93be5a6cae, Ptr{Nothing} @0x00007f933812b74e, Ptr{Nothing} @0x00007f93ccb3e727, Ptr{Nothing} @0x00007f93ccb57ef5, Ptr{Nothing} @0x00007f93ccb57b3f, Ptr{Nothing} @0x00007f93ccb58543, Ptr{Nothing} @0x00007f93ccb597a7, Base.InterpreterIP in top-level CodeInfo for Plots at statement 10, Ptr{Nothing} @0x00007f93ccb76a19, Ptr{Nothing} @0x00007f93ccb77c90, Ptr{Nothing} @0x00007f9338117649, Ptr{Nothing} @0x00007f933811767d, Ptr{Nothing} @0x00007f93ccb3e727, Ptr{Nothing} @0x00007f9338117342, Ptr{Nothing} @0x00007f9338116e77, Ptr{Nothing} @0x00007f9338116e9d, Ptr{Nothing} @0x00007f93ccb3e727, Ptr{Nothing} @0x00007f93842f9d12, Ptr{Nothing} @0x00007f9338116dd4, Ptr{Nothing} @0x00007f9338116e0d, Ptr{Nothing} @0x00007f93ccb3e727, Ptr{Nothing} @0x00007f93ccb4e9d3, Ptr{Nothing} @0x00007f93ccb4f2b1, Ptr{Nothing} @0x00007f93842d705a, Ptr{Nothing} @0x00007f93842d71f1, Ptr{Nothing} @0x00007f93ccb3ebf2, Ptr{Nothing} @0x00007f93ccb4e9d3, Ptr{Nothing} @0x00007f93ccb4f2b1, Ptr{Nothing} @0x00007f93380a1481, Ptr{Nothing} @0x00007f933809ffa9, Ptr{Nothing} @0x00007f93380a13be, Ptr{Nothing} @0x00007f933809ffa9, Ptr{Nothing} @0x00007f93380a5a59, Ptr{Nothing} @0x00007f93380a7df8, Ptr{Nothing} @0x00007f93380aa2dd, Ptr{Nothing} @0x00007f93ccb3e727, Ptr{Nothing} @0x00007f93ccb7537a, Ptr{Nothing} @0x00007f93ccb7558a, Ptr{Nothing} @0x00007f93ccb766ca, Ptr{Nothing} @0x00007f93ccb49205, Ptr{Nothing} @0x00007f93be21c183, Ptr{Nothing} @0x00007f938427a929, Ptr{Nothing} @0x00007f93ccb3e727, Ptr{Nothing} @0x00007f9384277771, Ptr{Nothing} @0x00007f93ccb3e727, Ptr{Nothing} @0x00007f93ccb4e9d3, Ptr{Nothing} @0x00007f93ccb4f2b1, Ptr{Nothing} @0x00007f938425116f, Ptr{Nothing} @0x00007f93842513ae, Ptr{Nothing} @0x00007f93842513cc, Ptr{Nothing} @0x00007f93ccb3e727, Ptr{Nothing} @0x00007f93ccb5d26e, Ptr{Nothing} @0x0000000000000000])\n",
      "└ @ Requires /home/wayneyw/.julia/packages/Requires/7Ncym/src/require.jl:49\n",
      "┌ Info: Precompiling TensorGraphicalModels [898512dd-fedb-4d0f-8314-27d67dcd2480]\n",
      "└ @ Base loading.jl:1278\n"
     ]
    }
   ],
   "source": [
    "using Plots\n",
    "using MIRT: jim\n",
    "using TensorGraphicalModels"
   ]
  },
  {
   "cell_type": "code",
   "execution_count": 2,
   "metadata": {},
   "outputs": [
    {
     "ename": "LoadError",
     "evalue": "\u001b[91mMethodError: no method matching sylvc(::SparseArrays.SparseMatrixCSC{Float64,Int64}, ::SparseArrays.SparseMatrixCSC{Float64,Int64}, ::Array{Float64,1})\u001b[39m\n\u001b[91m\u001b[0mClosest candidates are:\u001b[39m\n\u001b[91m\u001b[0m  sylvc(::AbstractArray{T,2} where T, ::AbstractArray{T,2} where T, \u001b[91m::AbstractArray{T,2} where T\u001b[39m) at /home/wayneyw/.julia/packages/MatrixEquations/nkG8P/src/sylvester.jl:57\u001b[39m\n\u001b[91m\u001b[0m  sylvc(\u001b[91m::Union{Real, Complex, LinearAlgebra.UniformScaling}\u001b[39m, ::Union{AbstractArray{T,2} where T, LinearAlgebra.UniformScaling}, \u001b[91m::AbstractArray{T,2} where T\u001b[39m) at /home/wayneyw/.julia/packages/MatrixEquations/nkG8P/src/sylvester.jl:95\u001b[39m\n\u001b[91m\u001b[0m  sylvc(::AbstractArray{T,2} where T, \u001b[91m::Union{Real, Complex, LinearAlgebra.UniformScaling}\u001b[39m, \u001b[91m::AbstractArray{T,2} where T\u001b[39m) at /home/wayneyw/.julia/packages/MatrixEquations/nkG8P/src/sylvester.jl:97\u001b[39m",
     "output_type": "error",
     "traceback": [
      "\u001b[91mMethodError: no method matching sylvc(::SparseArrays.SparseMatrixCSC{Float64,Int64}, ::SparseArrays.SparseMatrixCSC{Float64,Int64}, ::Array{Float64,1})\u001b[39m\n\u001b[91m\u001b[0mClosest candidates are:\u001b[39m\n\u001b[91m\u001b[0m  sylvc(::AbstractArray{T,2} where T, ::AbstractArray{T,2} where T, \u001b[91m::AbstractArray{T,2} where T\u001b[39m) at /home/wayneyw/.julia/packages/MatrixEquations/nkG8P/src/sylvester.jl:57\u001b[39m\n\u001b[91m\u001b[0m  sylvc(\u001b[91m::Union{Real, Complex, LinearAlgebra.UniformScaling}\u001b[39m, ::Union{AbstractArray{T,2} where T, LinearAlgebra.UniformScaling}, \u001b[91m::AbstractArray{T,2} where T\u001b[39m) at /home/wayneyw/.julia/packages/MatrixEquations/nkG8P/src/sylvester.jl:95\u001b[39m\n\u001b[91m\u001b[0m  sylvc(::AbstractArray{T,2} where T, \u001b[91m::Union{Real, Complex, LinearAlgebra.UniformScaling}\u001b[39m, \u001b[91m::AbstractArray{T,2} where T\u001b[39m) at /home/wayneyw/.julia/packages/MatrixEquations/nkG8P/src/sylvester.jl:97\u001b[39m",
      "",
      "Stacktrace:",
      " [1] sylv_eqn_solver!(::Array{Float64,1}, ::Array{Float64,1}, ::TensorGraphicalModels.POISSON; α::Float64, ϵ::Float64, Δx::Float64, Δt::Float64) at /mnt/hdd/Dropbox (University of Michigan)/UMich/Research/Covariance_Estimation/TensorGraphicalModels/src/utils_sim.jl:396",
      " [2] kalmanfilter_dynamic_update(::String, ::Array{Float64,1}, ::Bool, ::Float64; α::Float64, ϵ::Float64, Δx::Float64, Δt::Float64) at /mnt/hdd/Dropbox (University of Michigan)/UMich/Research/Covariance_Estimation/TensorGraphicalModels/src/utils_sim.jl:327",
      " [3] kalmanfilter_dynamic_update(::String, ::Array{Float64,1}, ::Bool, ::Float64) at /mnt/hdd/Dropbox (University of Michigan)/UMich/Research/Covariance_Estimation/TensorGraphicalModels/src/utils_sim.jl:314",
      " [4] gen_kalmanfilter_data(::String, ::String, ::Int64, ::Tuple{Int64,Int64}, ::Tuple{Int64,Int64}, ::Float64, ::Float64, ::Bool) at /mnt/hdd/Dropbox (University of Michigan)/UMich/Research/Covariance_Estimation/TensorGraphicalModels/src/utils_sim.jl:290",
      " [5] top-level scope at In[2]:11",
      " [6] include_string(::Function, ::Module, ::String, ::String) at ./loading.jl:1091"
     ]
    }
   ],
   "source": [
    "# generate ground truth data \n",
    "dynamic_type = \"poisson\"\n",
    "obs_type = \"linear_perm_miss\"\n",
    "T = 20\n",
    "N = 50\n",
    "px = py = (32, 32)\n",
    "obs_noise = 0.01\n",
    "process_noise = 0.01\n",
    "add_process_noise = false\n",
    "\n",
    "X, Y, H = TensorGraphicalModels.gen_kalmanfilter_data(dynamic_type, obs_type, T, px, py, obs_noise, process_noise, add_process_noise)"
   ]
  },
  {
   "cell_type": "code",
   "execution_count": null,
   "metadata": {},
   "outputs": [],
   "source": [
    "# gif all time steps\n",
    "anim_x = @animate for i=2:(T+1)\n",
    "    # plot(jim(reshape(X[:,i],px),clim=(-3.0,3.0)),\n",
    "    #     title=string(\"Time step: \",i))\n",
    "    Plots.plot(jim(reshape(X[:,i],px)),\n",
    "        title=string(\"Time step: \",i))\n",
    "end\n",
    "gif(anim_x, fps=5)"
   ]
  },
  {
   "cell_type": "code",
   "execution_count": null,
   "metadata": {},
   "outputs": [],
   "source": [
    "# run enkf with tensor graphical models\n",
    "method_list = [\"glasso\", \"kpca\", \"kglasso\", \"teralasso\", \"sg_palm\"]\n",
    "NRMSEs_list = []\n",
    "time_list = []\n",
    "Omegahat_list = []\n",
    "for method in method_list\n",
    "    # starttime = time()\n",
    "    ## run enkf \n",
    "    Xhat, Xhat_bar, _ = enkf(Y, \n",
    "                            method_str_to_type(method),\n",
    "                            dynamic_type,\n",
    "                            H,\n",
    "                            px,\n",
    "                            py,\n",
    "                            N,\n",
    "                            obs_noise, \n",
    "                            process_noise,\n",
    "                            add_process_noise)\n",
    "    # ## timer\n",
    "    # stoptime = time() - starttime\n",
    "    # push!(time_list, stoptime)\n",
    "    ## compute NRMSEs\n",
    "    NRMSEs = compute_nrmse(X, Xhat)\n",
    "    push!(NRMSEs_list, NRMSEs)\n",
    "    # ## store est. precision matrix\n",
    "    # push!(Omegahat_list, Omegahat)\n",
    "end"
   ]
  },
  {
   "cell_type": "code",
   "execution_count": null,
   "metadata": {},
   "outputs": [],
   "source": [
    "# set up plots of nrmses\n",
    "fig = Plots.plot()\n",
    "xlabel!(\"Time step\")\n",
    "ylabel!(\"RMSE\")\n",
    "for method in method_list\n",
    "    if method == \"sg_palm\"\n",
    "        NRMSEs = NRMSEs_list[end] \n",
    "    elseif method == \"teralasso\"\n",
    "        NRMSEs = NRMSEs_list[4] \n",
    "    elseif method == \"kglasso\"\n",
    "        NRMSEs = NRMSEs_list[3] \n",
    "    elseif method == \"glasso\"\n",
    "        NRMSEs = NRMSEs_list[1] \n",
    "    elseif method == \"kpca\"\n",
    "        NRMSEs = NRMSEs_list[2] \n",
    "    end\n",
    "    ## plot rmse progression for each method\n",
    "    plot_nrmse!(NRMSEs, method)\n",
    "end\n",
    "# plot_nrmse!(NRMSEs_list[1], method_list[1])\n",
    "display(fig)"
   ]
  }
 ],
 "metadata": {
  "@webio": {
   "lastCommId": null,
   "lastKernelId": null
  },
  "kernelspec": {
   "display_name": "Julia 1.5.0",
   "language": "julia",
   "name": "julia-1.5"
  },
  "language_info": {
   "file_extension": ".jl",
   "mimetype": "application/julia",
   "name": "julia",
   "version": "1.5.0"
  },
  "toc": {
   "base_numbering": 1,
   "nav_menu": {},
   "number_sections": true,
   "sideBar": true,
   "skip_h1_title": false,
   "title_cell": "Table of Contents",
   "title_sidebar": "Contents",
   "toc_cell": false,
   "toc_position": {
    "height": "calc(100% - 180px)",
    "left": "10px",
    "top": "150px",
    "width": "207.719px"
   },
   "toc_section_display": true,
   "toc_window_display": true
  }
 },
 "nbformat": 4,
 "nbformat_minor": 4
}
