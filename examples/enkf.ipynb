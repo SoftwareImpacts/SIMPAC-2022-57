{
 "cells": [
  {
   "cell_type": "markdown",
   "metadata": {},
   "source": [
    "## Examples of running multiway (inverse) covariance models for ensemble Kalman filter"
   ]
  },
  {
   "cell_type": "code",
   "execution_count": null,
   "metadata": {},
   "outputs": [],
   "source": [
    "using Plots\n",
    "using MIRT: jim"
   ]
  },
  {
   "cell_type": "code",
   "execution_count": null,
   "metadata": {},
   "outputs": [],
   "source": [
    "# generate ground truth data \n",
    "dynamic_type = \"poisson\"\n",
    "obs_type = \"linear_perm_miss\"\n",
    "T = 20\n",
    "N = 50\n",
    "px = py = (32, 32)\n",
    "obs_noise = 0.01\n",
    "process_noise = 0.01\n",
    "add_process_noise = false\n",
    "\n",
    "X, Y, H = gen_kalmanfilter_data(dynamic_type, obs_type, T, px, py, obs_noise, process_noise, add_process_noise)"
   ]
  },
  {
   "cell_type": "code",
   "execution_count": null,
   "metadata": {},
   "outputs": [],
   "source": [
    "# gif all time steps\n",
    "anim_x = @animate for i=2:(T+1)\n",
    "    # plot(jim(reshape(X[:,i],px),clim=(-3.0,3.0)),\n",
    "    #     title=string(\"Time step: \",i))\n",
    "    Plots.plot(jim(reshape(X[:,i],px)),\n",
    "        title=string(\"Time step: \",i))\n",
    "end\n",
    "gif(anim_x, fps=5)"
   ]
  },
  {
   "cell_type": "code",
   "execution_count": null,
   "metadata": {},
   "outputs": [],
   "source": [
    "# run enkf with tensor graphical models\n",
    "method_list = [\"glasso\", \"kpca\", \"kglasso\", \"teralasso\", \"sg_palm\"]\n",
    "NRMSEs_list = []\n",
    "time_list = []\n",
    "Omegahat_list = []\n",
    "for method in method_list\n",
    "    # starttime = time()\n",
    "    ## run enkf \n",
    "    Xhat, Xhat_bar, _ = enkf(Y, \n",
    "                            method_str_to_type(method),\n",
    "                            dynamic_type,\n",
    "                            H,\n",
    "                            px,\n",
    "                            py,\n",
    "                            N,\n",
    "                            obs_noise, \n",
    "                            process_noise,\n",
    "                            add_process_noise)\n",
    "    # ## timer\n",
    "    # stoptime = time() - starttime\n",
    "    # push!(time_list, stoptime)\n",
    "    ## compute NRMSEs\n",
    "    NRMSEs = compute_nrmse(X, Xhat)\n",
    "    push!(NRMSEs_list, NRMSEs)\n",
    "    # ## store est. precision matrix\n",
    "    # push!(Omegahat_list, Omegahat)\n",
    "end"
   ]
  },
  {
   "cell_type": "code",
   "execution_count": null,
   "metadata": {},
   "outputs": [],
   "source": [
    "# set up plots of nrmses\n",
    "fig = Plots.plot()\n",
    "xlabel!(\"Time step\")\n",
    "ylabel!(\"RMSE\")\n",
    "for method in method_list\n",
    "    if method == \"sg_palm\"\n",
    "        NRMSEs = NRMSEs_list[end] \n",
    "    elseif method == \"teralasso\"\n",
    "        NRMSEs = NRMSEs_list[4] \n",
    "    elseif method == \"kglasso\"\n",
    "        NRMSEs = NRMSEs_list[3] \n",
    "    elseif method == \"glasso\"\n",
    "        NRMSEs = NRMSEs_list[1] \n",
    "    elseif method == \"kpca\"\n",
    "        NRMSEs = NRMSEs_list[2] \n",
    "    end\n",
    "    ## plot rmse progression for each method\n",
    "    plot_nrmse!(NRMSEs, method)\n",
    "end\n",
    "# plot_nrmse!(NRMSEs_list[1], method_list[1])\n",
    "display(fig)"
   ]
  }
 ],
 "metadata": {
  "kernelspec": {
   "display_name": "Julia 1.5.0",
   "language": "julia",
   "name": "julia-1.5"
  },
  "language_info": {
   "file_extension": ".jl",
   "mimetype": "application/julia",
   "name": "julia",
   "version": "1.5.0"
  },
  "toc": {
   "base_numbering": 1,
   "nav_menu": {},
   "number_sections": true,
   "sideBar": true,
   "skip_h1_title": false,
   "title_cell": "Table of Contents",
   "title_sidebar": "Contents",
   "toc_cell": false,
   "toc_position": {
    "height": "calc(100% - 180px)",
    "left": "10px",
    "top": "150px",
    "width": "207.719px"
   },
   "toc_section_display": true,
   "toc_window_display": true
  }
 },
 "nbformat": 4,
 "nbformat_minor": 4
}
